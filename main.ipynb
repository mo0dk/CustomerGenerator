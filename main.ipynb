{
 "cells": [
  {
   "cell_type": "code",
   "execution_count": 75,
   "id": "953ccde8-369a-42af-916e-aa552bde6cf2",
   "metadata": {
    "ExecuteTime": {
     "end_time": "2024-07-26T08:47:53.712874Z",
     "start_time": "2024-07-26T08:47:52.942219Z"
    }
   },
   "outputs": [],
   "source": [
    "import numpy as np\n",
    "import pandas as pd\n",
    "from pandasql import sqldf\n",
    "import seaborn as sns\n",
    "import matplotlib.pyplot as plt\n",
    "\n",
    "%matplotlib inline"
   ]
  },
  {
   "cell_type": "code",
   "execution_count": 60,
   "id": "5b324783-d05b-4bc7-aea2-24ffa2d0054f",
   "metadata": {
    "ExecuteTime": {
     "end_time": "2024-07-26T08:19:12.954695Z",
     "start_time": "2024-07-26T08:19:12.951525Z"
    }
   },
   "outputs": [],
   "source": [
    "all_user_ids = np.arange(1, 10001)  # генерим 10000 пользователей\n",
    "\n",
    "all_product_ids = np.arange(1, 101)  # генерим 100 товаров\n",
    "\n",
    "all_companies_names = np.array(['Сбербанк', 'Роснефть', 'Сургутнефтегаз', 'Газпром', 'Норникель'])"
   ]
  },
  {
   "cell_type": "code",
   "execution_count": 61,
   "id": "a7c95ff4-28ae-4d61-8dab-5db1117c1961",
   "metadata": {
    "ExecuteTime": {
     "end_time": "2024-07-26T08:19:13.123687Z",
     "start_time": "2024-07-26T08:19:13.121657Z"
    }
   },
   "outputs": [],
   "source": [
    "n = 10000"
   ]
  },
  {
   "cell_type": "code",
   "execution_count": 62,
   "id": "0892725a-5a6a-4096-a674-ac3eb99940cb",
   "metadata": {
    "ExecuteTime": {
     "end_time": "2024-07-26T08:19:13.271323Z",
     "start_time": "2024-07-26T08:19:13.268199Z"
    }
   },
   "outputs": [],
   "source": [
    "user_ids = np.random.choice(all_user_ids, n)  # рандомная выборка\n",
    "product_ids = np.random.choice(all_product_ids, n)  # рандомная выборка\n",
    "companies_names = np.random.choice(all_companies_names, n)"
   ]
  },
  {
   "cell_type": "code",
   "execution_count": 63,
   "id": "921e84ef-9362-4772-a3e3-f85987cf2862",
   "metadata": {
    "ExecuteTime": {
     "end_time": "2024-07-26T08:19:13.417259Z",
     "start_time": "2024-07-26T08:19:13.414768Z"
    }
   },
   "outputs": [],
   "source": [
    "start_date = pd.to_datetime(\"2023-01-01\")  # Начала отсчета"
   ]
  },
  {
   "cell_type": "code",
   "execution_count": 64,
   "id": "f7861460-eda5-4520-9e43-78e164128aeb",
   "metadata": {
    "ExecuteTime": {
     "end_time": "2024-07-26T08:19:13.585726Z",
     "start_time": "2024-07-26T08:19:13.583023Z"
    }
   },
   "outputs": [],
   "source": [
    "times = pd.date_range(start_date, periods=n, freq=\"1min\")  # генерим время от /\n",
    "# начала отсчета с переодичностью 1 минута 10000 раз"
   ]
  },
  {
   "cell_type": "code",
   "execution_count": 65,
   "id": "8079294f-930f-4a3c-9783-a753dc7d7782",
   "metadata": {
    "ExecuteTime": {
     "end_time": "2024-07-26T08:19:13.735430Z",
     "start_time": "2024-07-26T08:19:13.731047Z"
    }
   },
   "outputs": [],
   "source": [
    "user_actions = pd.DataFrame(\n",
    "    {\"user_id\": user_ids, \"product_id\": product_ids, \"time\": times, \"company\": companies_names}\n",
    ")  # создание Дата Фрейма"
   ]
  },
  {
   "cell_type": "code",
   "execution_count": 66,
   "id": "20a00773-89de-4247-9d00-acb8eb799383",
   "metadata": {
    "ExecuteTime": {
     "end_time": "2024-07-26T08:19:13.880346Z",
     "start_time": "2024-07-26T08:19:13.876923Z"
    }
   },
   "outputs": [],
   "source": [
    "user_actions[\"action\"] = \"view\""
   ]
  },
  {
   "cell_type": "code",
   "execution_count": 67,
   "id": "e4e34d32-9a5a-45cc-aac4-654537a057a3",
   "metadata": {
    "ExecuteTime": {
     "end_time": "2024-07-26T08:19:14.029671Z",
     "start_time": "2024-07-26T08:19:14.025133Z"
    },
    "code_folding": []
   },
   "outputs": [],
   "source": [
    "def generate_funnel_actions(user_id, product_id, time, company):\n",
    "    to_cart = 0.2\n",
    "    to_purchase = 0.4\n",
    "    \n",
    "    df = pd.DataFrame()\n",
    "    \n",
    "    if np.random.binomial(1, to_cart, 1)[0]:\n",
    "        df = pd.DataFrame({\n",
    "                            'user_id': user_id,\n",
    "                            'product_id': product_id,\n",
    "                            'time': time + pd.Timedelta(5, unit='s'),\n",
    "                            'company': company,\n",
    "                            'action': 'add to cart',}, index=[0])\n",
    "        \n",
    "        if np.random.binomial(1, to_purchase, 1)[0]:\n",
    "            df_purchase = pd.DataFrame({\n",
    "                            'user_id': user_id,\n",
    "                            'product_id': product_id,\n",
    "                            'time': time + pd.Timedelta(10, unit='s'),\n",
    "                            'company': company,\n",
    "                            'action': 'purchase'}, index=[0])\n",
    "            df = df.append(df_purchase)\n",
    "            \n",
    "    return df\n"
   ]
  },
  {
   "cell_type": "code",
   "execution_count": 68,
   "id": "2c0c9b45-4a75-4361-89e9-aaa19eeebd27",
   "metadata": {
    "ExecuteTime": {
     "end_time": "2024-07-26T08:19:14.682107Z",
     "start_time": "2024-07-26T08:19:14.679634Z"
    },
    "tags": []
   },
   "outputs": [],
   "source": [
    "to_cart_df = pd.DataFrame()"
   ]
  },
  {
   "cell_type": "code",
   "execution_count": 69,
   "id": "7c63158f-711f-42c0-8128-a2d24f539857",
   "metadata": {
    "ExecuteTime": {
     "end_time": "2024-07-26T08:19:22.260279Z",
     "start_time": "2024-07-26T08:19:15.057445Z"
    },
    "code_folding": []
   },
   "outputs": [],
   "source": [
    "for index, row in user_actions.iterrows():\n",
    "    user_df = generate_funnel_actions(row[\"user_id\"], row[\"product_id\"], row[\"time\"], row[\"company\"])\n",
    "    to_cart_df = to_cart_df.append(user_df)"
   ]
  },
  {
   "cell_type": "code",
   "execution_count": 70,
   "id": "1e6f2761-85f3-4012-a1a0-d496746566e9",
   "metadata": {
    "ExecuteTime": {
     "end_time": "2024-07-26T08:19:22.273148Z",
     "start_time": "2024-07-26T08:19:22.261634Z"
    }
   },
   "outputs": [
    {
     "data": {
      "text/html": [
       "<div>\n",
       "<style scoped>\n",
       "    .dataframe tbody tr th:only-of-type {\n",
       "        vertical-align: middle;\n",
       "    }\n",
       "\n",
       "    .dataframe tbody tr th {\n",
       "        vertical-align: top;\n",
       "    }\n",
       "\n",
       "    .dataframe thead th {\n",
       "        text-align: right;\n",
       "    }\n",
       "</style>\n",
       "<table border=\"1\" class=\"dataframe\">\n",
       "  <thead>\n",
       "    <tr style=\"text-align: right;\">\n",
       "      <th></th>\n",
       "      <th>user_id</th>\n",
       "      <th>product_id</th>\n",
       "      <th>time</th>\n",
       "      <th>company</th>\n",
       "      <th>action</th>\n",
       "    </tr>\n",
       "  </thead>\n",
       "  <tbody>\n",
       "    <tr>\n",
       "      <th>0</th>\n",
       "      <td>772</td>\n",
       "      <td>78</td>\n",
       "      <td>2023-01-01 00:03:05</td>\n",
       "      <td>Сургутнефтегаз</td>\n",
       "      <td>add to cart</td>\n",
       "    </tr>\n",
       "    <tr>\n",
       "      <th>0</th>\n",
       "      <td>9571</td>\n",
       "      <td>1</td>\n",
       "      <td>2023-01-01 00:04:05</td>\n",
       "      <td>Норникель</td>\n",
       "      <td>add to cart</td>\n",
       "    </tr>\n",
       "    <tr>\n",
       "      <th>0</th>\n",
       "      <td>9571</td>\n",
       "      <td>1</td>\n",
       "      <td>2023-01-01 00:04:10</td>\n",
       "      <td>Норникель</td>\n",
       "      <td>purchase</td>\n",
       "    </tr>\n",
       "    <tr>\n",
       "      <th>0</th>\n",
       "      <td>8349</td>\n",
       "      <td>70</td>\n",
       "      <td>2023-01-01 00:06:05</td>\n",
       "      <td>Газпром</td>\n",
       "      <td>add to cart</td>\n",
       "    </tr>\n",
       "    <tr>\n",
       "      <th>0</th>\n",
       "      <td>8349</td>\n",
       "      <td>70</td>\n",
       "      <td>2023-01-01 00:06:10</td>\n",
       "      <td>Газпром</td>\n",
       "      <td>purchase</td>\n",
       "    </tr>\n",
       "    <tr>\n",
       "      <th>...</th>\n",
       "      <td>...</td>\n",
       "      <td>...</td>\n",
       "      <td>...</td>\n",
       "      <td>...</td>\n",
       "      <td>...</td>\n",
       "    </tr>\n",
       "    <tr>\n",
       "      <th>0</th>\n",
       "      <td>9104</td>\n",
       "      <td>59</td>\n",
       "      <td>2023-01-07 22:15:05</td>\n",
       "      <td>Норникель</td>\n",
       "      <td>add to cart</td>\n",
       "    </tr>\n",
       "    <tr>\n",
       "      <th>0</th>\n",
       "      <td>4360</td>\n",
       "      <td>56</td>\n",
       "      <td>2023-01-07 22:20:05</td>\n",
       "      <td>Роснефть</td>\n",
       "      <td>add to cart</td>\n",
       "    </tr>\n",
       "    <tr>\n",
       "      <th>0</th>\n",
       "      <td>2312</td>\n",
       "      <td>69</td>\n",
       "      <td>2023-01-07 22:37:05</td>\n",
       "      <td>Роснефть</td>\n",
       "      <td>add to cart</td>\n",
       "    </tr>\n",
       "    <tr>\n",
       "      <th>0</th>\n",
       "      <td>2312</td>\n",
       "      <td>69</td>\n",
       "      <td>2023-01-07 22:37:10</td>\n",
       "      <td>Роснефть</td>\n",
       "      <td>purchase</td>\n",
       "    </tr>\n",
       "    <tr>\n",
       "      <th>0</th>\n",
       "      <td>8119</td>\n",
       "      <td>37</td>\n",
       "      <td>2023-01-07 22:38:05</td>\n",
       "      <td>Роснефть</td>\n",
       "      <td>add to cart</td>\n",
       "    </tr>\n",
       "  </tbody>\n",
       "</table>\n",
       "<p>2858 rows × 5 columns</p>\n",
       "</div>"
      ],
      "text/plain": [
       "    user_id  product_id                time         company       action\n",
       "0       772          78 2023-01-01 00:03:05  Сургутнефтегаз  add to cart\n",
       "0      9571           1 2023-01-01 00:04:05       Норникель  add to cart\n",
       "0      9571           1 2023-01-01 00:04:10       Норникель     purchase\n",
       "0      8349          70 2023-01-01 00:06:05         Газпром  add to cart\n",
       "0      8349          70 2023-01-01 00:06:10         Газпром     purchase\n",
       "..      ...         ...                 ...             ...          ...\n",
       "0      9104          59 2023-01-07 22:15:05       Норникель  add to cart\n",
       "0      4360          56 2023-01-07 22:20:05        Роснефть  add to cart\n",
       "0      2312          69 2023-01-07 22:37:05        Роснефть  add to cart\n",
       "0      2312          69 2023-01-07 22:37:10        Роснефть     purchase\n",
       "0      8119          37 2023-01-07 22:38:05        Роснефть  add to cart\n",
       "\n",
       "[2858 rows x 5 columns]"
      ]
     },
     "execution_count": 70,
     "metadata": {},
     "output_type": "execute_result"
    }
   ],
   "source": [
    "to_cart_df"
   ]
  },
  {
   "cell_type": "code",
   "execution_count": 71,
   "id": "d955775f-1fb5-4786-b4e8-b811c05d4670",
   "metadata": {
    "ExecuteTime": {
     "end_time": "2024-07-26T08:19:22.281774Z",
     "start_time": "2024-07-26T08:19:22.275317Z"
    }
   },
   "outputs": [],
   "source": [
    "user_actions = user_actions.append(to_cart_df)\n",
    "user_actions = user_actions.sort_values('time')"
   ]
  },
  {
   "cell_type": "code",
   "execution_count": 72,
   "id": "33807158",
   "metadata": {
    "ExecuteTime": {
     "end_time": "2024-07-26T08:19:22.290378Z",
     "start_time": "2024-07-26T08:19:22.283734Z"
    }
   },
   "outputs": [],
   "source": [
    "user_actions['date'] = user_actions.time.dt.date"
   ]
  },
  {
   "cell_type": "code",
   "execution_count": 73,
   "id": "62f9f0e6",
   "metadata": {
    "ExecuteTime": {
     "end_time": "2024-07-26T08:19:22.300795Z",
     "start_time": "2024-07-26T08:19:22.292265Z"
    }
   },
   "outputs": [
    {
     "data": {
      "text/plain": [
       "array(['Сбербанк', 'Норникель', 'Роснефть', 'Сургутнефтегаз', 'Газпром'],\n",
       "      dtype=object)"
      ]
     },
     "execution_count": 73,
     "metadata": {},
     "output_type": "execute_result"
    }
   ],
   "source": [
    "user_actions.company.unique()"
   ]
  },
  {
   "cell_type": "code",
   "execution_count": 74,
   "id": "683c58a5",
   "metadata": {
    "ExecuteTime": {
     "end_time": "2024-07-26T08:19:22.315848Z",
     "start_time": "2024-07-26T08:19:22.302673Z"
    }
   },
   "outputs": [
    {
     "data": {
      "text/html": [
       "<div>\n",
       "<style scoped>\n",
       "    .dataframe tbody tr th:only-of-type {\n",
       "        vertical-align: middle;\n",
       "    }\n",
       "\n",
       "    .dataframe tbody tr th {\n",
       "        vertical-align: top;\n",
       "    }\n",
       "\n",
       "    .dataframe thead th {\n",
       "        text-align: right;\n",
       "    }\n",
       "</style>\n",
       "<table border=\"1\" class=\"dataframe\">\n",
       "  <thead>\n",
       "    <tr style=\"text-align: right;\">\n",
       "      <th></th>\n",
       "      <th>user_id</th>\n",
       "      <th>product_id</th>\n",
       "      <th>time</th>\n",
       "      <th>company</th>\n",
       "      <th>action</th>\n",
       "      <th>date</th>\n",
       "    </tr>\n",
       "  </thead>\n",
       "  <tbody>\n",
       "    <tr>\n",
       "      <th>0</th>\n",
       "      <td>8241</td>\n",
       "      <td>79</td>\n",
       "      <td>2023-01-01 00:00:00</td>\n",
       "      <td>Сбербанк</td>\n",
       "      <td>view</td>\n",
       "      <td>2023-01-01</td>\n",
       "    </tr>\n",
       "    <tr>\n",
       "      <th>1</th>\n",
       "      <td>1348</td>\n",
       "      <td>98</td>\n",
       "      <td>2023-01-01 00:01:00</td>\n",
       "      <td>Норникель</td>\n",
       "      <td>view</td>\n",
       "      <td>2023-01-01</td>\n",
       "    </tr>\n",
       "    <tr>\n",
       "      <th>2</th>\n",
       "      <td>8820</td>\n",
       "      <td>97</td>\n",
       "      <td>2023-01-01 00:02:00</td>\n",
       "      <td>Роснефть</td>\n",
       "      <td>view</td>\n",
       "      <td>2023-01-01</td>\n",
       "    </tr>\n",
       "    <tr>\n",
       "      <th>3</th>\n",
       "      <td>772</td>\n",
       "      <td>78</td>\n",
       "      <td>2023-01-01 00:03:00</td>\n",
       "      <td>Сургутнефтегаз</td>\n",
       "      <td>view</td>\n",
       "      <td>2023-01-01</td>\n",
       "    </tr>\n",
       "    <tr>\n",
       "      <th>0</th>\n",
       "      <td>772</td>\n",
       "      <td>78</td>\n",
       "      <td>2023-01-01 00:03:05</td>\n",
       "      <td>Сургутнефтегаз</td>\n",
       "      <td>add to cart</td>\n",
       "      <td>2023-01-01</td>\n",
       "    </tr>\n",
       "    <tr>\n",
       "      <th>4</th>\n",
       "      <td>9571</td>\n",
       "      <td>1</td>\n",
       "      <td>2023-01-01 00:04:00</td>\n",
       "      <td>Норникель</td>\n",
       "      <td>view</td>\n",
       "      <td>2023-01-01</td>\n",
       "    </tr>\n",
       "    <tr>\n",
       "      <th>0</th>\n",
       "      <td>9571</td>\n",
       "      <td>1</td>\n",
       "      <td>2023-01-01 00:04:05</td>\n",
       "      <td>Норникель</td>\n",
       "      <td>add to cart</td>\n",
       "      <td>2023-01-01</td>\n",
       "    </tr>\n",
       "    <tr>\n",
       "      <th>0</th>\n",
       "      <td>9571</td>\n",
       "      <td>1</td>\n",
       "      <td>2023-01-01 00:04:10</td>\n",
       "      <td>Норникель</td>\n",
       "      <td>purchase</td>\n",
       "      <td>2023-01-01</td>\n",
       "    </tr>\n",
       "    <tr>\n",
       "      <th>5</th>\n",
       "      <td>9556</td>\n",
       "      <td>80</td>\n",
       "      <td>2023-01-01 00:05:00</td>\n",
       "      <td>Роснефть</td>\n",
       "      <td>view</td>\n",
       "      <td>2023-01-01</td>\n",
       "    </tr>\n",
       "    <tr>\n",
       "      <th>6</th>\n",
       "      <td>8349</td>\n",
       "      <td>70</td>\n",
       "      <td>2023-01-01 00:06:00</td>\n",
       "      <td>Газпром</td>\n",
       "      <td>view</td>\n",
       "      <td>2023-01-01</td>\n",
       "    </tr>\n",
       "    <tr>\n",
       "      <th>0</th>\n",
       "      <td>8349</td>\n",
       "      <td>70</td>\n",
       "      <td>2023-01-01 00:06:05</td>\n",
       "      <td>Газпром</td>\n",
       "      <td>add to cart</td>\n",
       "      <td>2023-01-01</td>\n",
       "    </tr>\n",
       "    <tr>\n",
       "      <th>0</th>\n",
       "      <td>8349</td>\n",
       "      <td>70</td>\n",
       "      <td>2023-01-01 00:06:10</td>\n",
       "      <td>Газпром</td>\n",
       "      <td>purchase</td>\n",
       "      <td>2023-01-01</td>\n",
       "    </tr>\n",
       "    <tr>\n",
       "      <th>7</th>\n",
       "      <td>9300</td>\n",
       "      <td>2</td>\n",
       "      <td>2023-01-01 00:07:00</td>\n",
       "      <td>Сбербанк</td>\n",
       "      <td>view</td>\n",
       "      <td>2023-01-01</td>\n",
       "    </tr>\n",
       "    <tr>\n",
       "      <th>0</th>\n",
       "      <td>9300</td>\n",
       "      <td>2</td>\n",
       "      <td>2023-01-01 00:07:05</td>\n",
       "      <td>Сбербанк</td>\n",
       "      <td>add to cart</td>\n",
       "      <td>2023-01-01</td>\n",
       "    </tr>\n",
       "    <tr>\n",
       "      <th>8</th>\n",
       "      <td>5370</td>\n",
       "      <td>34</td>\n",
       "      <td>2023-01-01 00:08:00</td>\n",
       "      <td>Роснефть</td>\n",
       "      <td>view</td>\n",
       "      <td>2023-01-01</td>\n",
       "    </tr>\n",
       "    <tr>\n",
       "      <th>9</th>\n",
       "      <td>818</td>\n",
       "      <td>20</td>\n",
       "      <td>2023-01-01 00:09:00</td>\n",
       "      <td>Роснефть</td>\n",
       "      <td>view</td>\n",
       "      <td>2023-01-01</td>\n",
       "    </tr>\n",
       "    <tr>\n",
       "      <th>10</th>\n",
       "      <td>4042</td>\n",
       "      <td>68</td>\n",
       "      <td>2023-01-01 00:10:00</td>\n",
       "      <td>Газпром</td>\n",
       "      <td>view</td>\n",
       "      <td>2023-01-01</td>\n",
       "    </tr>\n",
       "    <tr>\n",
       "      <th>11</th>\n",
       "      <td>3101</td>\n",
       "      <td>21</td>\n",
       "      <td>2023-01-01 00:11:00</td>\n",
       "      <td>Сбербанк</td>\n",
       "      <td>view</td>\n",
       "      <td>2023-01-01</td>\n",
       "    </tr>\n",
       "    <tr>\n",
       "      <th>12</th>\n",
       "      <td>6240</td>\n",
       "      <td>27</td>\n",
       "      <td>2023-01-01 00:12:00</td>\n",
       "      <td>Сбербанк</td>\n",
       "      <td>view</td>\n",
       "      <td>2023-01-01</td>\n",
       "    </tr>\n",
       "    <tr>\n",
       "      <th>13</th>\n",
       "      <td>9202</td>\n",
       "      <td>72</td>\n",
       "      <td>2023-01-01 00:13:00</td>\n",
       "      <td>Сбербанк</td>\n",
       "      <td>view</td>\n",
       "      <td>2023-01-01</td>\n",
       "    </tr>\n",
       "  </tbody>\n",
       "</table>\n",
       "</div>"
      ],
      "text/plain": [
       "    user_id  product_id                time         company       action  \\\n",
       "0      8241          79 2023-01-01 00:00:00        Сбербанк         view   \n",
       "1      1348          98 2023-01-01 00:01:00       Норникель         view   \n",
       "2      8820          97 2023-01-01 00:02:00        Роснефть         view   \n",
       "3       772          78 2023-01-01 00:03:00  Сургутнефтегаз         view   \n",
       "0       772          78 2023-01-01 00:03:05  Сургутнефтегаз  add to cart   \n",
       "4      9571           1 2023-01-01 00:04:00       Норникель         view   \n",
       "0      9571           1 2023-01-01 00:04:05       Норникель  add to cart   \n",
       "0      9571           1 2023-01-01 00:04:10       Норникель     purchase   \n",
       "5      9556          80 2023-01-01 00:05:00        Роснефть         view   \n",
       "6      8349          70 2023-01-01 00:06:00         Газпром         view   \n",
       "0      8349          70 2023-01-01 00:06:05         Газпром  add to cart   \n",
       "0      8349          70 2023-01-01 00:06:10         Газпром     purchase   \n",
       "7      9300           2 2023-01-01 00:07:00        Сбербанк         view   \n",
       "0      9300           2 2023-01-01 00:07:05        Сбербанк  add to cart   \n",
       "8      5370          34 2023-01-01 00:08:00        Роснефть         view   \n",
       "9       818          20 2023-01-01 00:09:00        Роснефть         view   \n",
       "10     4042          68 2023-01-01 00:10:00         Газпром         view   \n",
       "11     3101          21 2023-01-01 00:11:00        Сбербанк         view   \n",
       "12     6240          27 2023-01-01 00:12:00        Сбербанк         view   \n",
       "13     9202          72 2023-01-01 00:13:00        Сбербанк         view   \n",
       "\n",
       "          date  \n",
       "0   2023-01-01  \n",
       "1   2023-01-01  \n",
       "2   2023-01-01  \n",
       "3   2023-01-01  \n",
       "0   2023-01-01  \n",
       "4   2023-01-01  \n",
       "0   2023-01-01  \n",
       "0   2023-01-01  \n",
       "5   2023-01-01  \n",
       "6   2023-01-01  \n",
       "0   2023-01-01  \n",
       "0   2023-01-01  \n",
       "7   2023-01-01  \n",
       "0   2023-01-01  \n",
       "8   2023-01-01  \n",
       "9   2023-01-01  \n",
       "10  2023-01-01  \n",
       "11  2023-01-01  \n",
       "12  2023-01-01  \n",
       "13  2023-01-01  "
      ]
     },
     "execution_count": 74,
     "metadata": {},
     "output_type": "execute_result"
    }
   ],
   "source": [
    "user_actions.head(20)"
   ]
  },
  {
   "cell_type": "code",
   "execution_count": 24,
   "id": "e3562050",
   "metadata": {
    "ExecuteTime": {
     "end_time": "2024-07-26T08:01:03.721471Z",
     "start_time": "2024-07-26T08:01:03.718928Z"
    }
   },
   "outputs": [],
   "source": [
    " q =\"\"\"\n",
    " SELECT\n",
    "     date,\n",
    "     views,\n",
    "     carts,\n",
    "     purchases,\n",
    "     100 * purchases / views as purchase_percantage\n",
    "FROM (\n",
    "    SELECT \n",
    "        date,\n",
    "        count(case when action = 'view' then 1 else NULL end) as views,\n",
    "        count(case when action = 'add to cart' then 1 else NULL end) as carts,\n",
    "        count(case when action = 'purchase' then 1 else NULL end) as purchases\n",
    "    FROM user_actions\n",
    "    GROUP BY date);\n",
    "\"\"\""
   ]
  },
  {
   "cell_type": "code",
   "execution_count": 78,
   "id": "4158e639",
   "metadata": {
    "ExecuteTime": {
     "end_time": "2024-07-26T09:14:41.014574Z",
     "start_time": "2024-07-26T09:14:40.790867Z"
    }
   },
   "outputs": [
    {
     "data": {
      "text/html": [
       "<div>\n",
       "<style scoped>\n",
       "    .dataframe tbody tr th:only-of-type {\n",
       "        vertical-align: middle;\n",
       "    }\n",
       "\n",
       "    .dataframe tbody tr th {\n",
       "        vertical-align: top;\n",
       "    }\n",
       "\n",
       "    .dataframe thead th {\n",
       "        text-align: right;\n",
       "    }\n",
       "</style>\n",
       "<table border=\"1\" class=\"dataframe\">\n",
       "  <thead>\n",
       "    <tr style=\"text-align: right;\">\n",
       "      <th></th>\n",
       "      <th>date</th>\n",
       "      <th>views</th>\n",
       "      <th>carts</th>\n",
       "      <th>purchases</th>\n",
       "      <th>purchase_percantage</th>\n",
       "    </tr>\n",
       "  </thead>\n",
       "  <tbody>\n",
       "    <tr>\n",
       "      <th>0</th>\n",
       "      <td>2023-01-01</td>\n",
       "      <td>1440</td>\n",
       "      <td>295</td>\n",
       "      <td>126</td>\n",
       "      <td>8</td>\n",
       "    </tr>\n",
       "    <tr>\n",
       "      <th>1</th>\n",
       "      <td>2023-01-02</td>\n",
       "      <td>1440</td>\n",
       "      <td>289</td>\n",
       "      <td>113</td>\n",
       "      <td>7</td>\n",
       "    </tr>\n",
       "    <tr>\n",
       "      <th>2</th>\n",
       "      <td>2023-01-03</td>\n",
       "      <td>1440</td>\n",
       "      <td>309</td>\n",
       "      <td>123</td>\n",
       "      <td>8</td>\n",
       "    </tr>\n",
       "    <tr>\n",
       "      <th>3</th>\n",
       "      <td>2023-01-04</td>\n",
       "      <td>1440</td>\n",
       "      <td>293</td>\n",
       "      <td>115</td>\n",
       "      <td>7</td>\n",
       "    </tr>\n",
       "    <tr>\n",
       "      <th>4</th>\n",
       "      <td>2023-01-05</td>\n",
       "      <td>1440</td>\n",
       "      <td>279</td>\n",
       "      <td>103</td>\n",
       "      <td>7</td>\n",
       "    </tr>\n",
       "    <tr>\n",
       "      <th>5</th>\n",
       "      <td>2023-01-06</td>\n",
       "      <td>1440</td>\n",
       "      <td>305</td>\n",
       "      <td>131</td>\n",
       "      <td>9</td>\n",
       "    </tr>\n",
       "    <tr>\n",
       "      <th>6</th>\n",
       "      <td>2023-01-07</td>\n",
       "      <td>1360</td>\n",
       "      <td>268</td>\n",
       "      <td>109</td>\n",
       "      <td>8</td>\n",
       "    </tr>\n",
       "  </tbody>\n",
       "</table>\n",
       "</div>"
      ],
      "text/plain": [
       "         date  views  carts  purchases  purchase_percantage\n",
       "0  2023-01-01   1440    295        126                    8\n",
       "1  2023-01-02   1440    289        113                    7\n",
       "2  2023-01-03   1440    309        123                    8\n",
       "3  2023-01-04   1440    293        115                    7\n",
       "4  2023-01-05   1440    279        103                    7\n",
       "5  2023-01-06   1440    305        131                    9\n",
       "6  2023-01-07   1360    268        109                    8"
      ]
     },
     "execution_count": 78,
     "metadata": {},
     "output_type": "execute_result"
    }
   ],
   "source": [
    "df = sqldf(q)\n",
    "sqldf(q)"
   ]
  },
  {
   "cell_type": "code",
   "execution_count": 79,
   "id": "b0bcf9bd",
   "metadata": {
    "ExecuteTime": {
     "end_time": "2024-07-26T09:14:57.976201Z",
     "start_time": "2024-07-26T09:14:57.840883Z"
    }
   },
   "outputs": [
    {
     "data": {
      "image/png": "[encoded data removed]",
      "text/plain": [
       "<Figure size 360x360 with 1 Axes>"
      ]
     },
     "metadata": {
      "needs_background": "light"
     },
     "output_type": "display_data"
    }
   ],
   "source": [
    "ax = sns.displot(df.carts)"
   ]
  },
  {
   "cell_type": "code",
   "execution_count": null,
   "id": "ce75facd",
   "metadata": {},
   "outputs": [],
   "source": []
  }
 ],
 "metadata": {
  "kernelspec": {
   "display_name": "Python 3",
   "language": "python",
   "name": "python3"
  },
  "language_info": {
   "codemirror_mode": {
    "name": "ipython",
    "version": 3
   },
   "file_extension": ".py",
   "mimetype": "text/x-python",
   "name": "python",
   "nbconvert_exporter": "python",
   "pygments_lexer": "ipython3",
   "version": "3.8.10"
  },
  "toc": {
   "base_numbering": 1,
   "nav_menu": {},
   "number_sections": false,
   "sideBar": true,
   "skip_h1_title": false,
   "title_cell": "Table of Contents",
   "title_sidebar": "Contents",
   "toc_cell": false,
   "toc_position": {},
   "toc_section_display": true,
   "toc_window_display": false
  }
 },
 "nbformat": 4,
 "nbformat_minor": 5
}
